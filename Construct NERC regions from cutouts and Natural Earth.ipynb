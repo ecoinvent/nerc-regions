{
 "cells": [
  {
   "cell_type": "markdown",
   "metadata": {},
   "source": [
    "# Construct NERC regions\n",
    "\n",
    "Using the point data generated in the previous notebook, I hand-traced the boundaries I though best, creating [\"cutout\" shapes in the previous SPP region](https://github.com/cmutel/nerc-regions/blob/master/data/cutouts_spp.gpkg). We can then use these cutouts, combined with previous cutouts used to generate the ecoinvent map, and the state boundaries from Natural Earth, to define each NERC region (aside from Alaska and Hawai'i, where we use the whole state)."
   ]
  },
  {
   "cell_type": "code",
   "execution_count": 1,
   "metadata": {},
   "outputs": [],
   "source": [
    "import fiona\n",
    "from shapely.geometry import shape, MultiPolygon, mapping, Polygon\n",
    "from fiona.crs import from_epsg\n",
    "from shapely.ops import unary_union\n",
    "import geopandas as gpd\n",
    "from matplotlib import pyplot as plt"
   ]
  },
  {
   "cell_type": "code",
   "execution_count": 2,
   "metadata": {},
   "outputs": [],
   "source": [
    "def to_valid_multipolygon(geom):\n",
    "    if not geom.is_valid:\n",
    "        geom = geom.buffer(0.0)\n",
    "    if not isinstance(geom, MultiPolygon):\n",
    "        geom = MultiPolygon([geom])\n",
    "    assert geom.is_valid\n",
    "    return geom    "
   ]
  },
  {
   "cell_type": "code",
   "execution_count": 3,
   "metadata": {},
   "outputs": [],
   "source": [
    "usa = {}\n",
    "\n",
    "for i, layername in enumerate(fiona.listlayers('zip://data/natural-earth/ne_10m_admin_1_states_provinces.zip')):\n",
    "    with fiona.open('zip://data/natural-earth/ne_10m_admin_1_states_provinces.zip', layer=i) as src:\n",
    "        usa = {\n",
    "            feature['properties']['name']: to_valid_multipolygon(shape(feature['geometry']))\n",
    "            for feature in src\n",
    "            if feature['properties']['admin'] == 'United States of America'\n",
    "        }"
   ]
  },
  {
   "cell_type": "code",
   "execution_count": 4,
   "metadata": {},
   "outputs": [],
   "source": [
    "cutouts = {}\n",
    "\n",
    "with fiona.open('data/cutouts_spp.gpkg', layer=0) as src:\n",
    "    cutouts = {\n",
    "        feature['properties']['name']: to_valid_multipolygon(shape(feature['geometry']))\n",
    "        for feature in src\n",
    "    }"
   ]
  },
  {
   "cell_type": "code",
   "execution_count": 5,
   "metadata": {},
   "outputs": [
    {
     "data": {
      "text/plain": [
       "{'mro_nm': <shapely.geometry.multipolygon.MultiPolygon at 0x7f8e907dff28>,\n",
       " 'mro_texas1': <shapely.geometry.multipolygon.MultiPolygon at 0x7f8e907df550>,\n",
       " 'wecc_texas': <shapely.geometry.multipolygon.MultiPolygon at 0x7f8e907df2e8>,\n",
       " 'mro_texas_east': <shapely.geometry.multipolygon.MultiPolygon at 0x7f8e907df9e8>,\n",
       " 'tre_ok': <shapely.geometry.multipolygon.MultiPolygon at 0x7f8e907df400>}"
      ]
     },
     "execution_count": 5,
     "metadata": {},
     "output_type": "execute_result"
    }
   ],
   "source": [
    "cutouts"
   ]
  },
  {
   "cell_type": "code",
   "execution_count": 6,
   "metadata": {},
   "outputs": [],
   "source": [
    "with fiona.open('data/cutouts/mro.gpkg', layer=0) as src:\n",
    "    mro_cutout = to_valid_multipolygon(shape(next(iter(src))['geometry']))\n",
    "    \n",
    "with fiona.open('data/cutouts/mro_ill.gpkg', layer=0) as src:\n",
    "    mro_ill_cutout = to_valid_multipolygon(shape(next(iter(src))['geometry']))    "
   ]
  },
  {
   "cell_type": "code",
   "execution_count": 7,
   "metadata": {},
   "outputs": [],
   "source": [
    "with fiona.open('data/cutouts/serc.gpkg', layer=0) as src:\n",
    "    serc_cutout = to_valid_multipolygon(shape(next(iter(src))['geometry']))"
   ]
  },
  {
   "cell_type": "code",
   "execution_count": 8,
   "metadata": {},
   "outputs": [],
   "source": [
    "def plot(geom):\n",
    "    gpd.GeoSeries(geom).plot()\n",
    "    plt.show()\n",
    "    return plt"
   ]
  },
  {
   "cell_type": "markdown",
   "metadata": {},
   "source": [
    "# WECC"
   ]
  },
  {
   "cell_type": "code",
   "execution_count": 9,
   "metadata": {},
   "outputs": [],
   "source": [
    "wecc = unary_union(\n",
    "    [cutouts['wecc_texas'].intersection(usa['Texas']), usa['New Mexico'].difference(cutouts['mro_nm'])] + \n",
    "    [usa[key].difference(mro_cutout) for key in ('Montana', 'South Dakota', 'Nebraska')] + \n",
    "    [usa[key] for key in \n",
    "        ('Washington', 'Oregon', 'California', 'Idaho', 'Wyoming', 'Utah', 'Arizona', 'Nevada', 'Colorado')\n",
    "     ]\n",
    ")"
   ]
  },
  {
   "cell_type": "code",
   "execution_count": 10,
   "metadata": {},
   "outputs": [
    {
     "data": {
      "image/png": "[encoded data removed]",
      "text/plain": [
       "<Figure size 432x288 with 1 Axes>"
      ]
     },
     "metadata": {
      "needs_background": "light"
     },
     "output_type": "display_data"
    }
   ],
   "source": [
    "gpd.GeoSeries(wecc).plot()\n",
    "plt.show()"
   ]
  },
  {
   "cell_type": "markdown",
   "metadata": {},
   "source": [
    "# MRO"
   ]
  },
  {
   "cell_type": "code",
   "execution_count": 11,
   "metadata": {},
   "outputs": [],
   "source": [
    "mro = unary_union(\n",
    "    [    \n",
    "        cutouts['mro_nm'].intersection(usa['New Mexico']), \n",
    "        cutouts['mro_texas1'].intersection(usa['Texas']),\n",
    "        cutouts['mro_texas_east'].intersection(usa['Texas']).difference(serc_cutout),\n",
    "        usa['Oklahoma'].difference(cutouts['tre_ok']),\n",
    "        mro_ill_cutout.intersection(usa['Illinois'])\n",
    "    ] +    \n",
    "    [usa[key].difference(serc_cutout) for key in ('Missouri', 'Arkansas', 'Louisiana')] + \n",
    "    [usa[key].intersection(mro_cutout) for key in ('Montana', 'South Dakota', 'Nebraska', 'Wisconsin')] + \n",
    "    [usa[key] for key in \n",
    "        ('North Dakota', 'Kansas', 'Iowa', 'Minnesota')\n",
    "     ]\n",
    ")"
   ]
  },
  {
   "cell_type": "code",
   "execution_count": 12,
   "metadata": {},
   "outputs": [
    {
     "data": {
      "image/png": "[encoded data removed]",
      "text/plain": [
       "<Figure size 432x288 with 1 Axes>"
      ]
     },
     "metadata": {
      "needs_background": "light"
     },
     "output_type": "display_data"
    },
    {
     "data": {
      "text/plain": [
       "<module 'matplotlib.pyplot' from '/Users/cmutel/miniconda/envs/eigeo/lib/python3.7/site-packages/matplotlib/pyplot.py'>"
      ]
     },
     "execution_count": 12,
     "metadata": {},
     "output_type": "execute_result"
    }
   ],
   "source": [
    "plot(mro)"
   ]
  },
  {
   "cell_type": "markdown",
   "metadata": {},
   "source": [
    "# SERC"
   ]
  },
  {
   "cell_type": "code",
   "execution_count": 13,
   "metadata": {},
   "outputs": [],
   "source": [
    "serc = unary_union(\n",
    "    [\n",
    "        usa[key].intersection(serc_cutout)\n",
    "        for key in \n",
    "        ('Missouri', 'Arkansas', 'Louisiana', 'Texas', 'Illinois', 'Virginia', 'Kentucky', 'Florida')] + \n",
    "    [usa[key] for key in \n",
    "        ('Tennessee', 'Alabama', 'Mississippi', 'Georgia', 'South Carolina', 'North Carolina', )\n",
    "     ]\n",
    ")"
   ]
  },
  {
   "cell_type": "code",
   "execution_count": 14,
   "metadata": {},
   "outputs": [
    {
     "data": {
      "image/png": "[encoded data removed]",
      "text/plain": [
       "<Figure size 432x288 with 1 Axes>"
      ]
     },
     "metadata": {
      "needs_background": "light"
     },
     "output_type": "display_data"
    },
    {
     "data": {
      "text/plain": [
       "<module 'matplotlib.pyplot' from '/Users/cmutel/miniconda/envs/eigeo/lib/python3.7/site-packages/matplotlib/pyplot.py'>"
      ]
     },
     "execution_count": 14,
     "metadata": {},
     "output_type": "execute_result"
    }
   ],
   "source": [
    "plot(serc)"
   ]
  },
  {
   "cell_type": "markdown",
   "metadata": {},
   "source": [
    "# TRE"
   ]
  },
  {
   "cell_type": "code",
   "execution_count": 15,
   "metadata": {},
   "outputs": [],
   "source": [
    "tre = unary_union(\n",
    "    [\n",
    "        usa['Texas'].difference(serc_cutout).difference(cutouts['wecc_texas']).difference(\n",
    "            cutouts['mro_texas1']).difference(cutouts['mro_texas_east']),\n",
    "        usa['Oklahoma'].intersection(cutouts['tre_ok']),\n",
    "    ]\n",
    ")"
   ]
  },
  {
   "cell_type": "code",
   "execution_count": 16,
   "metadata": {},
   "outputs": [
    {
     "data": {
      "image/png": "[encoded data removed]",
      "text/plain": [
       "<Figure size 432x288 with 1 Axes>"
      ]
     },
     "metadata": {
      "needs_background": "light"
     },
     "output_type": "display_data"
    },
    {
     "data": {
      "text/plain": [
       "<module 'matplotlib.pyplot' from '/Users/cmutel/miniconda/envs/eigeo/lib/python3.7/site-packages/matplotlib/pyplot.py'>"
      ]
     },
     "execution_count": 16,
     "metadata": {},
     "output_type": "execute_result"
    }
   ],
   "source": [
    "plot(tre)"
   ]
  },
  {
   "cell_type": "markdown",
   "metadata": {},
   "source": [
    "# NPCC"
   ]
  },
  {
   "cell_type": "code",
   "execution_count": 17,
   "metadata": {},
   "outputs": [],
   "source": [
    "npcc = unary_union(\n",
    "    [usa[key] for key in \n",
    "        ('New York', 'Connecticut', 'Rhode Island', 'Massachusetts', 'Vermont', 'New Hampshire', 'Maine')\n",
    "     ]\n",
    ")"
   ]
  },
  {
   "cell_type": "code",
   "execution_count": 18,
   "metadata": {},
   "outputs": [
    {
     "data": {
      "image/png": "[encoded data removed]",
      "text/plain": [
       "<Figure size 432x288 with 1 Axes>"
      ]
     },
     "metadata": {
      "needs_background": "light"
     },
     "output_type": "display_data"
    },
    {
     "data": {
      "text/plain": [
       "<module 'matplotlib.pyplot' from '/Users/cmutel/miniconda/envs/eigeo/lib/python3.7/site-packages/matplotlib/pyplot.py'>"
      ]
     },
     "execution_count": 18,
     "metadata": {},
     "output_type": "execute_result"
    }
   ],
   "source": [
    "plot(npcc)"
   ]
  },
  {
   "cell_type": "markdown",
   "metadata": {},
   "source": [
    "# FRCC"
   ]
  },
  {
   "cell_type": "code",
   "execution_count": 19,
   "metadata": {},
   "outputs": [],
   "source": [
    "frcc = usa['Florida'].difference(serc_cutout)"
   ]
  },
  {
   "cell_type": "code",
   "execution_count": 20,
   "metadata": {},
   "outputs": [
    {
     "data": {
      "image/png": "[encoded data removed]",
      "text/plain": [
       "<Figure size 432x288 with 1 Axes>"
      ]
     },
     "metadata": {
      "needs_background": "light"
     },
     "output_type": "display_data"
    },
    {
     "data": {
      "text/plain": [
       "<module 'matplotlib.pyplot' from '/Users/cmutel/miniconda/envs/eigeo/lib/python3.7/site-packages/matplotlib/pyplot.py'>"
      ]
     },
     "execution_count": 20,
     "metadata": {},
     "output_type": "execute_result"
    }
   ],
   "source": [
    "plot(frcc)"
   ]
  },
  {
   "cell_type": "markdown",
   "metadata": {},
   "source": [
    "# RFC"
   ]
  },
  {
   "cell_type": "code",
   "execution_count": 21,
   "metadata": {},
   "outputs": [],
   "source": [
    "rfc = unary_union(\n",
    "    [\n",
    "        usa['Illinois'].difference(mro_ill_cutout).difference(serc_cutout),\n",
    "        usa['Wisconsin'].difference(mro_cutout),\n",
    "    ] + \n",
    "    [\n",
    "        usa[key].difference(serc_cutout)\n",
    "        for key in \n",
    "        ('Virginia', 'Kentucky')] + \n",
    "    [usa[key] for key in \n",
    "        ('Indiana', 'Ohio', 'West Virginia', 'District of Columbia', 'Maryland', 'Delaware', 'Pennsylvania', 'New Jersey', 'Michigan')\n",
    "     ]\n",
    ")"
   ]
  },
  {
   "cell_type": "code",
   "execution_count": 22,
   "metadata": {},
   "outputs": [
    {
     "data": {
      "image/png": "[encoded data removed]",
      "text/plain": [
       "<Figure size 432x288 with 1 Axes>"
      ]
     },
     "metadata": {
      "needs_background": "light"
     },
     "output_type": "display_data"
    },
    {
     "data": {
      "text/plain": [
       "<module 'matplotlib.pyplot' from '/Users/cmutel/miniconda/envs/eigeo/lib/python3.7/site-packages/matplotlib/pyplot.py'>"
      ]
     },
     "execution_count": 22,
     "metadata": {},
     "output_type": "execute_result"
    }
   ],
   "source": [
    "plot(rfc)"
   ]
  },
  {
   "cell_type": "markdown",
   "metadata": {},
   "source": [
    "# Fix intersecting geometries"
   ]
  },
  {
   "cell_type": "code",
   "execution_count": 30,
   "metadata": {},
   "outputs": [],
   "source": [
    "npcc = to_valid_multipolygon(npcc.difference(rfc))"
   ]
  },
  {
   "cell_type": "code",
   "execution_count": 36,
   "metadata": {},
   "outputs": [],
   "source": [
    "for other in (frcc, mro, rfc, tre):\n",
    "    serc = serc.difference(other)\n",
    "    \n",
    "serc = to_valid_multipolygon(serc)"
   ]
  },
  {
   "cell_type": "markdown",
   "metadata": {},
   "source": [
    "# Fix interior holes with zero area\n",
    "\n",
    "The GIS operations can create small interior holes with almost zero area, due to floating point errors. This can be easily removed with the following:"
   ]
  },
  {
   "cell_type": "code",
   "execution_count": 37,
   "metadata": {},
   "outputs": [],
   "source": [
    "def fix_multipolygon(geom):\n",
    "    mp = to_valid_multipolygon(geom)\n",
    "    return MultiPolygon([remove_small_holes(obj) for obj in geom])"
   ]
  },
  {
   "cell_type": "code",
   "execution_count": 38,
   "metadata": {},
   "outputs": [],
   "source": [
    "def remove_small_holes(polygon, max_area = 1e-4):\n",
    "    for ring in polygon.interiors:\n",
    "        ring_geom = Polygon(ring)\n",
    "        if(ring_geom.area < max_area):\n",
    "            polygon = polygon.union(ring_geom.buffer(1e-5))\n",
    "    return polygon"
   ]
  },
  {
   "cell_type": "markdown",
   "metadata": {},
   "source": [
    "Note, however, that this above functions don't fix evverything. I manually fixed multiple errors where there were zero-area intrusions into polygons.\n",
    "\n",
    "# Write geometries to new Geopackage"
   ]
  },
  {
   "cell_type": "code",
   "execution_count": 39,
   "metadata": {},
   "outputs": [],
   "source": [
    "schema =  {\n",
    "    'geometry': 'MultiPolygon',\n",
    "    'properties': {'name': 'str'},\n",
    "}\n",
    "\n",
    "data = [\n",
    "    (frcc, 'frcc'),\n",
    "    (mro, 'mro'),\n",
    "    (serc, 'serc'),\n",
    "    (npcc, 'npcc'),\n",
    "    (wecc, 'wecc'),\n",
    "    (rfc, 'rfc'),\n",
    "    (tre, 'tre')\n",
    "]\n",
    "\n",
    "with fiona.open(\n",
    "        'data/output/nerc_regions.gpkg', \n",
    "        'w',\n",
    "        crs=from_epsg(4326),\n",
    "        driver='GPKG', \n",
    "        schema=schema\n",
    "    ) as output:\n",
    "    for x, y in data:\n",
    "        output.write({'geometry': mapping(fix_multipolygon(to_valid_multipolygon(x))), 'properties': {'name': y}})"
   ]
  },
  {
   "cell_type": "markdown",
   "metadata": {},
   "source": [
    "## Converting to other GIS formats\n",
    "\n",
    "```bash\n",
    "ogr2ogr -f GeoJson data/output/nerc_regions.geojson data/output/nerc_regions.gpkg\n",
    "ogr2ogr -f KML data/output/nerc_regions.kml data/output/nerc_regions.gpkg\n",
    "```"
   ]
  },
  {
   "cell_type": "code",
   "execution_count": null,
   "metadata": {},
   "outputs": [],
   "source": []
  }
 ],
 "metadata": {
  "kernelspec": {
   "display_name": "Python 3",
   "language": "python",
   "name": "python3"
  },
  "language_info": {
   "codemirror_mode": {
    "name": "ipython",
    "version": 3
   },
   "file_extension": ".py",
   "mimetype": "text/x-python",
   "name": "python",
   "nbconvert_exporter": "python",
   "pygments_lexer": "ipython3",
   "version": "3.7.3"
  }
 },
 "nbformat": 4,
 "nbformat_minor": 4
}
